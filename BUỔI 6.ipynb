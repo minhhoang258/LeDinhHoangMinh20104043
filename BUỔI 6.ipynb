{
  "cells": [
    {
      "cell_type": "markdown",
      "metadata": {
        "id": "view-in-github",
        "colab_type": "text"
      },
      "source": [
        "<a href=\"https://colab.research.google.com/github/minhhoang258/LeDinhHoangMinh20104043/blob/main/BU%E1%BB%94I%206.ipynb\" target=\"_parent\"><img src=\"https://colab.research.google.com/assets/colab-badge.svg\" alt=\"Open In Colab\"/></a>"
      ]
    },
    {
      "cell_type": "code",
      "source": [
        "BUỔI 6"
      ],
      "metadata": {
        "id": "4A0amzyAZw3g"
      },
      "execution_count": null,
      "outputs": []
    },
    {
      "cell_type": "code",
      "execution_count": null,
      "metadata": {
        "colab": {
          "base_uri": "https://localhost:8080/"
        },
        "id": "Wof9RgnzTz_c",
        "outputId": "db402a1b-4d4a-45eb-aa67-e59b0a3647df"
      },
      "outputs": [
        {
          "output_type": "stream",
          "name": "stdout",
          "text": [
            "Downloading data from https://storage.googleapis.com/tensorflow/tf-keras-datasets/mnist.npz\n",
            "11490434/11490434 [==============================] - 0s 0us/step\n"
          ]
        },
        {
          "output_type": "execute_result",
          "data": {
            "text/plain": [
              "(10000,)"
            ]
          },
          "metadata": {},
          "execution_count": 18
        }
      ],
      "source": [
        "from keras.datasets import mnist\n",
        "(train_images,train_labels),(test_images,test_labels) = mnist.load_data()\n",
        "train_images.shape"
      ]
    },
    {
      "cell_type": "code",
      "source": [
        "train_labels.shape"
      ],
      "metadata": {
        "colab": {
          "base_uri": "https://localhost:8080/"
        },
        "id": "p76WpoYkOGnR",
        "outputId": "f3dc7bdb-e40a-4198-c664-172b2dcf7692"
      },
      "execution_count": null,
      "outputs": [
        {
          "output_type": "execute_result",
          "data": {
            "text/plain": [
              "(60000,)"
            ]
          },
          "metadata": {},
          "execution_count": 19
        }
      ]
    },
    {
      "cell_type": "code",
      "source": [
        "test_images.shape"
      ],
      "metadata": {
        "colab": {
          "base_uri": "https://localhost:8080/"
        },
        "id": "DfaXQYenOOOF",
        "outputId": "75732760-620d-46dc-eb98-25563248d22a"
      },
      "execution_count": null,
      "outputs": [
        {
          "output_type": "execute_result",
          "data": {
            "text/plain": [
              "(10000, 28, 28)"
            ]
          },
          "metadata": {},
          "execution_count": 20
        }
      ]
    },
    {
      "cell_type": "code",
      "source": [
        "test_labels.shape"
      ],
      "metadata": {
        "colab": {
          "base_uri": "https://localhost:8080/"
        },
        "id": "qy6Tmgd8OQa9",
        "outputId": "3b6d0868-4c67-4e39-d938-e83525cd0c2a"
      },
      "execution_count": null,
      "outputs": [
        {
          "output_type": "execute_result",
          "data": {
            "text/plain": [
              "(10000,)"
            ]
          },
          "metadata": {},
          "execution_count": 21
        }
      ]
    },
    {
      "cell_type": "code",
      "execution_count": null,
      "metadata": {
        "colab": {
          "base_uri": "https://localhost:8080/",
          "height": 282
        },
        "id": "2YxSw1RO25tu",
        "outputId": "b005f49e-85e9-43cb-bf11-3e996a0a1781"
      },
      "outputs": [
        {
          "data": {
            "image/png": "[encoded data removed]",
            "text/plain": [
              "<Figure size 432x288 with 1 Axes>"
            ]
          },
          "metadata": {},
          "output_type": "display_data"
        },
        {
          "name": "stdout",
          "output_type": "stream",
          "text": [
            "8\n"
          ]
        }
      ],
      "source": [
        "import matplotlib.pyplot as plt\n",
        "plt.imshow(train_images[3600])\n",
        "plt.show()\n",
        "print(train_labels[3600])"
      ]
    },
    {
      "cell_type": "code",
      "execution_count": null,
      "metadata": {
        "colab": {
          "base_uri": "https://localhost:8080/"
        },
        "id": "5ksi5ruv4hrj",
        "outputId": "2d3233ef-6522-4d9b-b746-c7d360e9f41c"
      },
      "outputs": [
        {
          "output_type": "stream",
          "name": "stdout",
          "text": [
            "Model: \"sequential_5\"\n",
            "_________________________________________________________________\n",
            " Layer (type)                Output Shape              Param #   \n",
            "=================================================================\n",
            " dense_10 (Dense)            (None, 512)               401920    \n",
            "                                                                 \n",
            " dense_11 (Dense)            (None, 10)                5130      \n",
            "                                                                 \n",
            "=================================================================\n",
            "Total params: 407,050\n",
            "Trainable params: 407,050\n",
            "Non-trainable params: 0\n",
            "_________________________________________________________________\n",
            "Epoch 1/10\n",
            "469/469 [==============================] - 6s 10ms/step - loss: 0.2592 - accuracy: 0.9248\n",
            "Epoch 2/10\n",
            "469/469 [==============================] - 5s 10ms/step - loss: 0.1039 - accuracy: 0.9698\n",
            "Epoch 3/10\n",
            "469/469 [==============================] - 5s 10ms/step - loss: 0.0684 - accuracy: 0.9797\n",
            "Epoch 4/10\n",
            "469/469 [==============================] - 5s 10ms/step - loss: 0.0496 - accuracy: 0.9854\n",
            "Epoch 5/10\n",
            "469/469 [==============================] - 5s 10ms/step - loss: 0.0370 - accuracy: 0.9892\n",
            "Epoch 6/10\n",
            "469/469 [==============================] - 5s 10ms/step - loss: 0.0282 - accuracy: 0.9917\n",
            "Epoch 7/10\n",
            "469/469 [==============================] - 5s 10ms/step - loss: 0.0220 - accuracy: 0.9937\n",
            "Epoch 8/10\n",
            "469/469 [==============================] - 5s 10ms/step - loss: 0.0169 - accuracy: 0.9951\n",
            "Epoch 9/10\n",
            "469/469 [==============================] - 5s 10ms/step - loss: 0.0128 - accuracy: 0.9965\n",
            "Epoch 10/10\n",
            "469/469 [==============================] - 5s 10ms/step - loss: 0.0097 - accuracy: 0.9973\n"
          ]
        },
        {
          "output_type": "execute_result",
          "data": {
            "text/plain": [
              "<keras.callbacks.History at 0x7f899976e1d0>"
            ]
          },
          "metadata": {},
          "execution_count": 22
        }
      ],
      "source": [
        "from keras.layers.core.activation import Activation\n",
        "# them thu vien\n",
        "from keras.utils import to_categorical\n",
        "from keras import models\n",
        "from keras import layers\n",
        "Mod = models.Sequential()\n",
        "Mod.add(layers.Dense(512,activation='relu',input_shape=(28*28,)))\n",
        "Mod.add(layers.Dense(10,activation='softmax'))\n",
        "Mod.summary()\n",
        "train_images = train_images.reshape((60000,28*28))\n",
        "train_images = train_images.astype('float32')/255\n",
        "test_images=test_images.reshape((10000,28*28))\n",
        "test_images =test_images.astype('float32')/255\n",
        "# lenh moi\n",
        "train_labels=to_categorical(train_labels)\n",
        "test_labels=to_categorical(test_labels)\n",
        "Mod.compile(optimizer='rmsprop',loss='categorical_crossentropy',metrics='accuracy')\n",
        "Mod.fit(train_images,train_labels,epochs=10,batch_size=128)\n",
        "\n"
      ]
    },
    {
      "cell_type": "code",
      "execution_count": null,
      "metadata": {
        "colab": {
          "base_uri": "https://localhost:8080/"
        },
        "id": "5twOcECc5oQJ",
        "outputId": "b5cd8494-7a64-4e8b-ae6b-4000651d0c39"
      },
      "outputs": [
        {
          "output_type": "stream",
          "name": "stdout",
          "text": [
            "313/313 [==============================] - 1s 3ms/step - loss: 0.0697 - accuracy: 0.9811\n",
            "Test accuracy: 0.9811000227928162\n"
          ]
        }
      ],
      "source": [
        "test_lost,test_acc=Mod.evaluate(test_images,test_labels)\n",
        "print('Test accuracy:',test_acc)"
      ]
    },
    {
      "cell_type": "code",
      "execution_count": null,
      "metadata": {
        "colab": {
          "base_uri": "https://localhost:8080/"
        },
        "id": "AOuQV_UmF4b3",
        "outputId": "c9ec6725-35fb-4611-b01d-9ff7ea69f787"
      },
      "outputs": [
        {
          "output_type": "stream",
          "name": "stdout",
          "text": [
            "Downloading data from https://storage.googleapis.com/tensorflow/tf-keras-datasets/train-labels-idx1-ubyte.gz\n",
            "29515/29515 [==============================] - 0s 0us/step\n",
            "Downloading data from https://storage.googleapis.com/tensorflow/tf-keras-datasets/train-images-idx3-ubyte.gz\n",
            "26421880/26421880 [==============================] - 0s 0us/step\n",
            "Downloading data from https://storage.googleapis.com/tensorflow/tf-keras-datasets/t10k-labels-idx1-ubyte.gz\n",
            "5148/5148 [==============================] - 0s 0us/step\n",
            "Downloading data from https://storage.googleapis.com/tensorflow/tf-keras-datasets/t10k-images-idx3-ubyte.gz\n",
            "4422102/4422102 [==============================] - 0s 0us/step\n"
          ]
        },
        {
          "output_type": "execute_result",
          "data": {
            "text/plain": [
              "(60000, 28, 28)"
            ]
          },
          "metadata": {},
          "execution_count": 24
        }
      ],
      "source": [
        "from keras.datasets import fashion_mnist\n",
        "(x_train,y_train),(x_test,y_test)= fashion_mnist.load_data()\n",
        "x_train.shape"
      ]
    },
    {
      "cell_type": "code",
      "execution_count": null,
      "metadata": {
        "colab": {
          "base_uri": "https://localhost:8080/"
        },
        "id": "tSfODZx1HQyV",
        "outputId": "72c60668-7f69-42df-adc7-3e578617490c"
      },
      "outputs": [
        {
          "output_type": "execute_result",
          "data": {
            "text/plain": [
              "(60000,)"
            ]
          },
          "metadata": {},
          "execution_count": 25
        }
      ],
      "source": [
        "y_train.shape"
      ]
    },
    {
      "cell_type": "code",
      "execution_count": null,
      "metadata": {
        "colab": {
          "base_uri": "https://localhost:8080/"
        },
        "id": "r2XFFaR6HqWu",
        "outputId": "7d850c5b-29cd-492f-f76f-0612e6796975"
      },
      "outputs": [
        {
          "output_type": "execute_result",
          "data": {
            "text/plain": [
              "(10000, 28, 28)"
            ]
          },
          "metadata": {},
          "execution_count": 26
        }
      ],
      "source": [
        "x_test.shape"
      ]
    },
    {
      "cell_type": "code",
      "execution_count": null,
      "metadata": {
        "colab": {
          "base_uri": "https://localhost:8080/"
        },
        "id": "OX0du21sHrk3",
        "outputId": "9730e174-23aa-4f7a-e402-2180ba43bc40"
      },
      "outputs": [
        {
          "output_type": "execute_result",
          "data": {
            "text/plain": [
              "(10000,)"
            ]
          },
          "metadata": {},
          "execution_count": 27
        }
      ],
      "source": [
        "y_test.shape"
      ]
    },
    {
      "cell_type": "code",
      "execution_count": null,
      "metadata": {
        "id": "8PpD5aUMJhEt"
      },
      "outputs": [],
      "source": [
        "class_name=['Tshirt','Trousers','Pullover','Dress','Coat','Sandal','Shirt','Sneaker','Bag','Ankle Boots']"
      ]
    },
    {
      "cell_type": "code",
      "execution_count": null,
      "metadata": {
        "colab": {
          "base_uri": "https://localhost:8080/",
          "height": 282
        },
        "id": "XFs5CFb3HtsZ",
        "outputId": "1fa3555f-04d4-455a-ae36-8bb816c91fde"
      },
      "outputs": [
        {
          "output_type": "display_data",
          "data": {
            "text/plain": [
              "<Figure size 432x288 with 1 Axes>"
            ],
            "image/png": "[encoded data removed]"
          },
          "metadata": {
            "needs_background": "light"
          }
        },
        {
          "output_type": "stream",
          "name": "stdout",
          "text": [
            "Tshirt\n"
          ]
        }
      ],
      "source": [
        "import matplotlib.pyplot as plot\n",
        "plt.imshow(x_test[8649])\n",
        "plt.show()\n",
        "print(class_name[y_test[8649]])\n"
      ]
    },
    {
      "cell_type": "code",
      "execution_count": null,
      "metadata": {
        "colab": {
          "base_uri": "https://localhost:8080/",
          "height": 282
        },
        "id": "YjV0L19cJLDM",
        "outputId": "5f9d7de0-c572-4c47-9069-6edccbd0f14d"
      },
      "outputs": [
        {
          "output_type": "display_data",
          "data": {
            "text/plain": [
              "<Figure size 432x288 with 1 Axes>"
            ],
            "image/png": "[encoded data removed]"
          },
          "metadata": {
            "needs_background": "light"
          }
        },
        {
          "output_type": "stream",
          "name": "stdout",
          "text": [
            "Ankle Boots\n"
          ]
        }
      ],
      "source": [
        "import matplotlib.pyplot as plot\n",
        "plt.imshow(x_test[6754])\n",
        "plt.show()\n",
        "print(class_name[y_test[6754]])"
      ]
    },
    {
      "cell_type": "code",
      "execution_count": null,
      "metadata": {
        "id": "n4eM1z06LVZg"
      },
      "outputs": [],
      "source": [
        "x_train = x_train.reshape((60000,28*28,))\n",
        "x_train = x_train.astype('float32')/255\n",
        "x_test = x_test.reshape(10000,28*28)\n",
        "x_test = x_test.astype('float32')/255"
      ]
    },
    {
      "cell_type": "code",
      "execution_count": null,
      "metadata": {
        "id": "YOW-YjLyMLU3"
      },
      "outputs": [],
      "source": [
        "from keras.utils import to_categorical\n",
        "y_train = to_categorical(y_train)\n",
        "y_test = to_categorical(y_test)"
      ]
    },
    {
      "cell_type": "code",
      "execution_count": null,
      "metadata": {
        "colab": {
          "base_uri": "https://localhost:8080/"
        },
        "id": "hnY0t7-HMgzT",
        "outputId": "0c15e201-ee30-4c42-9bb9-1f3038468fca"
      },
      "outputs": [
        {
          "output_type": "stream",
          "name": "stdout",
          "text": [
            "Epoch 1/100\n",
            "469/469 [==============================] - 5s 10ms/step - loss: 1.1561 - accuracy: 0.7672\n",
            "Epoch 2/100\n",
            "469/469 [==============================] - 5s 10ms/step - loss: 0.4357 - accuracy: 0.8485\n",
            "Epoch 3/100\n",
            "469/469 [==============================] - 5s 10ms/step - loss: 0.3687 - accuracy: 0.8701\n",
            "Epoch 4/100\n",
            "469/469 [==============================] - 5s 10ms/step - loss: 0.3294 - accuracy: 0.8814\n",
            "Epoch 5/100\n",
            "469/469 [==============================] - 5s 10ms/step - loss: 0.3036 - accuracy: 0.8902\n",
            "Epoch 6/100\n",
            "469/469 [==============================] - 5s 10ms/step - loss: 0.2856 - accuracy: 0.8965\n",
            "Epoch 7/100\n",
            "469/469 [==============================] - 5s 10ms/step - loss: 0.2700 - accuracy: 0.9017\n",
            "Epoch 8/100\n",
            "469/469 [==============================] - 5s 10ms/step - loss: 0.2592 - accuracy: 0.9057\n",
            "Epoch 9/100\n",
            "469/469 [==============================] - 5s 10ms/step - loss: 0.2476 - accuracy: 0.9099\n",
            "Epoch 10/100\n",
            "469/469 [==============================] - 5s 10ms/step - loss: 0.2365 - accuracy: 0.9133\n",
            "Epoch 11/100\n",
            "469/469 [==============================] - 5s 10ms/step - loss: 0.2285 - accuracy: 0.9164\n",
            "Epoch 12/100\n",
            "469/469 [==============================] - 5s 10ms/step - loss: 0.2194 - accuracy: 0.9199\n",
            "Epoch 13/100\n",
            "469/469 [==============================] - 5s 10ms/step - loss: 0.2125 - accuracy: 0.9225\n",
            "Epoch 14/100\n",
            "469/469 [==============================] - 5s 10ms/step - loss: 0.2068 - accuracy: 0.9243\n",
            "Epoch 15/100\n",
            "469/469 [==============================] - 5s 10ms/step - loss: 0.1966 - accuracy: 0.9290\n",
            "Epoch 16/100\n",
            "469/469 [==============================] - 5s 10ms/step - loss: 0.1930 - accuracy: 0.9305\n",
            "Epoch 17/100\n",
            "469/469 [==============================] - 5s 10ms/step - loss: 0.1888 - accuracy: 0.9320\n",
            "Epoch 18/100\n",
            "469/469 [==============================] - 5s 10ms/step - loss: 0.1817 - accuracy: 0.9338\n",
            "Epoch 19/100\n",
            "469/469 [==============================] - 5s 10ms/step - loss: 0.1774 - accuracy: 0.9351\n",
            "Epoch 20/100\n",
            "469/469 [==============================] - 5s 10ms/step - loss: 0.1718 - accuracy: 0.9373\n",
            "Epoch 21/100\n",
            "469/469 [==============================] - 5s 10ms/step - loss: 0.1673 - accuracy: 0.9376\n",
            "Epoch 22/100\n",
            "469/469 [==============================] - 5s 11ms/step - loss: 0.1634 - accuracy: 0.9402\n",
            "Epoch 23/100\n",
            "469/469 [==============================] - 5s 10ms/step - loss: 0.1592 - accuracy: 0.9426\n",
            "Epoch 24/100\n",
            "469/469 [==============================] - 5s 10ms/step - loss: 0.1562 - accuracy: 0.9431\n",
            "Epoch 25/100\n",
            "469/469 [==============================] - 5s 10ms/step - loss: 0.1518 - accuracy: 0.9442\n",
            "Epoch 26/100\n",
            "469/469 [==============================] - 5s 10ms/step - loss: 0.1492 - accuracy: 0.9456\n",
            "Epoch 27/100\n",
            "469/469 [==============================] - 5s 10ms/step - loss: 0.1423 - accuracy: 0.9486\n",
            "Epoch 28/100\n",
            "469/469 [==============================] - 5s 10ms/step - loss: 0.1413 - accuracy: 0.9487\n",
            "Epoch 29/100\n",
            "469/469 [==============================] - 5s 10ms/step - loss: 0.1383 - accuracy: 0.9504\n",
            "Epoch 30/100\n",
            "469/469 [==============================] - 5s 10ms/step - loss: 0.1342 - accuracy: 0.9518\n",
            "Epoch 31/100\n",
            "469/469 [==============================] - 5s 10ms/step - loss: 0.1315 - accuracy: 0.9530\n",
            "Epoch 32/100\n",
            "469/469 [==============================] - 5s 10ms/step - loss: 0.1309 - accuracy: 0.9538\n",
            "Epoch 33/100\n",
            "469/469 [==============================] - 5s 10ms/step - loss: 0.1288 - accuracy: 0.9538\n",
            "Epoch 34/100\n",
            "469/469 [==============================] - 5s 11ms/step - loss: 0.1259 - accuracy: 0.9545\n",
            "Epoch 35/100\n",
            "469/469 [==============================] - 5s 10ms/step - loss: 0.1235 - accuracy: 0.9555\n",
            "Epoch 36/100\n",
            "469/469 [==============================] - 5s 10ms/step - loss: 0.1175 - accuracy: 0.9576\n",
            "Epoch 37/100\n",
            "469/469 [==============================] - 5s 10ms/step - loss: 0.1157 - accuracy: 0.9589\n",
            "Epoch 38/100\n",
            "469/469 [==============================] - 5s 10ms/step - loss: 0.1151 - accuracy: 0.9589\n",
            "Epoch 39/100\n",
            "469/469 [==============================] - 5s 10ms/step - loss: 0.1132 - accuracy: 0.9596\n",
            "Epoch 40/100\n",
            "469/469 [==============================] - 5s 10ms/step - loss: 0.1120 - accuracy: 0.9608\n",
            "Epoch 41/100\n",
            "469/469 [==============================] - 5s 10ms/step - loss: 0.1100 - accuracy: 0.9611\n",
            "Epoch 42/100\n",
            "469/469 [==============================] - 5s 10ms/step - loss: 0.1090 - accuracy: 0.9625\n",
            "Epoch 43/100\n",
            "469/469 [==============================] - 6s 13ms/step - loss: 0.1027 - accuracy: 0.9634\n",
            "Epoch 44/100\n",
            "469/469 [==============================] - 6s 13ms/step - loss: 0.1061 - accuracy: 0.9629\n",
            "Epoch 45/100\n",
            "469/469 [==============================] - 5s 10ms/step - loss: 0.1013 - accuracy: 0.9645\n",
            "Epoch 46/100\n",
            "469/469 [==============================] - 5s 11ms/step - loss: 0.1018 - accuracy: 0.9638\n",
            "Epoch 47/100\n",
            "469/469 [==============================] - 5s 11ms/step - loss: 0.1019 - accuracy: 0.9650\n",
            "Epoch 48/100\n",
            "469/469 [==============================] - 5s 10ms/step - loss: 0.0974 - accuracy: 0.9668\n",
            "Epoch 49/100\n",
            "469/469 [==============================] - 5s 10ms/step - loss: 0.0970 - accuracy: 0.9661\n",
            "Epoch 50/100\n",
            "469/469 [==============================] - 5s 11ms/step - loss: 0.0909 - accuracy: 0.9686\n",
            "Epoch 51/100\n",
            "469/469 [==============================] - 5s 11ms/step - loss: 0.0924 - accuracy: 0.9681\n",
            "Epoch 52/100\n",
            "469/469 [==============================] - 5s 10ms/step - loss: 0.0893 - accuracy: 0.9688\n",
            "Epoch 53/100\n",
            "469/469 [==============================] - 5s 11ms/step - loss: 0.0895 - accuracy: 0.9690\n",
            "Epoch 54/100\n",
            "469/469 [==============================] - 5s 10ms/step - loss: 0.0896 - accuracy: 0.9689\n",
            "Epoch 55/100\n",
            "469/469 [==============================] - 5s 11ms/step - loss: 0.0863 - accuracy: 0.9703\n",
            "Epoch 56/100\n",
            "469/469 [==============================] - 5s 11ms/step - loss: 0.0876 - accuracy: 0.9701\n",
            "Epoch 57/100\n",
            "469/469 [==============================] - 5s 11ms/step - loss: 0.0837 - accuracy: 0.9710\n",
            "Epoch 58/100\n",
            "469/469 [==============================] - 5s 11ms/step - loss: 0.0833 - accuracy: 0.9716\n",
            "Epoch 59/100\n",
            "469/469 [==============================] - 5s 10ms/step - loss: 0.0813 - accuracy: 0.9713\n",
            "Epoch 60/100\n",
            "469/469 [==============================] - 5s 10ms/step - loss: 0.0800 - accuracy: 0.9725\n",
            "Epoch 61/100\n",
            "469/469 [==============================] - 5s 10ms/step - loss: 0.0785 - accuracy: 0.9736\n",
            "Epoch 62/100\n",
            "469/469 [==============================] - 5s 10ms/step - loss: 0.0800 - accuracy: 0.9728\n",
            "Epoch 63/100\n",
            "469/469 [==============================] - 5s 10ms/step - loss: 0.0812 - accuracy: 0.9722\n",
            "Epoch 64/100\n",
            "469/469 [==============================] - 5s 10ms/step - loss: 0.0754 - accuracy: 0.9745\n",
            "Epoch 65/100\n",
            "469/469 [==============================] - 5s 10ms/step - loss: 0.0741 - accuracy: 0.9749\n",
            "Epoch 66/100\n",
            "469/469 [==============================] - 5s 10ms/step - loss: 0.0759 - accuracy: 0.9746\n",
            "Epoch 67/100\n",
            "469/469 [==============================] - 5s 10ms/step - loss: 0.0737 - accuracy: 0.9746\n",
            "Epoch 68/100\n",
            "469/469 [==============================] - 5s 10ms/step - loss: 0.0736 - accuracy: 0.9753\n",
            "Epoch 69/100\n",
            "469/469 [==============================] - 5s 10ms/step - loss: 0.0725 - accuracy: 0.9759\n",
            "Epoch 70/100\n",
            "469/469 [==============================] - 5s 10ms/step - loss: 0.0746 - accuracy: 0.9755\n",
            "Epoch 71/100\n",
            "469/469 [==============================] - 5s 10ms/step - loss: 0.0719 - accuracy: 0.9762\n",
            "Epoch 72/100\n",
            "469/469 [==============================] - 5s 10ms/step - loss: 0.0696 - accuracy: 0.9765\n",
            "Epoch 73/100\n",
            "469/469 [==============================] - 5s 10ms/step - loss: 0.0708 - accuracy: 0.9766\n",
            "Epoch 74/100\n",
            "469/469 [==============================] - 5s 10ms/step - loss: 0.0685 - accuracy: 0.9778\n",
            "Epoch 75/100\n",
            "469/469 [==============================] - 5s 10ms/step - loss: 0.0668 - accuracy: 0.9775\n",
            "Epoch 76/100\n",
            "469/469 [==============================] - 5s 10ms/step - loss: 0.0644 - accuracy: 0.9784\n",
            "Epoch 77/100\n",
            "469/469 [==============================] - 5s 10ms/step - loss: 0.0664 - accuracy: 0.9779\n",
            "Epoch 78/100\n",
            "469/469 [==============================] - 5s 10ms/step - loss: 0.0648 - accuracy: 0.9783\n",
            "Epoch 79/100\n",
            "469/469 [==============================] - 5s 10ms/step - loss: 0.0635 - accuracy: 0.9796\n",
            "Epoch 80/100\n",
            "469/469 [==============================] - 5s 10ms/step - loss: 0.0631 - accuracy: 0.9798\n",
            "Epoch 81/100\n",
            "469/469 [==============================] - 5s 10ms/step - loss: 0.0596 - accuracy: 0.9792\n",
            "Epoch 82/100\n",
            "469/469 [==============================] - 5s 10ms/step - loss: 0.0585 - accuracy: 0.9804\n",
            "Epoch 83/100\n",
            "469/469 [==============================] - 5s 10ms/step - loss: 0.0628 - accuracy: 0.9795\n",
            "Epoch 84/100\n",
            "469/469 [==============================] - 5s 10ms/step - loss: 0.0612 - accuracy: 0.9793\n",
            "Epoch 85/100\n",
            "469/469 [==============================] - 5s 10ms/step - loss: 0.0592 - accuracy: 0.9799\n",
            "Epoch 86/100\n",
            "469/469 [==============================] - 5s 10ms/step - loss: 0.0600 - accuracy: 0.9807\n",
            "Epoch 87/100\n",
            "469/469 [==============================] - 5s 10ms/step - loss: 0.0597 - accuracy: 0.9810\n",
            "Epoch 88/100\n",
            "469/469 [==============================] - 6s 13ms/step - loss: 0.0601 - accuracy: 0.9815\n",
            "Epoch 89/100\n",
            "469/469 [==============================] - 6s 13ms/step - loss: 0.0590 - accuracy: 0.9812\n",
            "Epoch 90/100\n",
            "469/469 [==============================] - 5s 10ms/step - loss: 0.0591 - accuracy: 0.9816\n",
            "Epoch 91/100\n",
            "469/469 [==============================] - 5s 10ms/step - loss: 0.0563 - accuracy: 0.9823\n",
            "Epoch 92/100\n",
            "469/469 [==============================] - 5s 10ms/step - loss: 0.0563 - accuracy: 0.9817\n",
            "Epoch 93/100\n",
            "469/469 [==============================] - 5s 11ms/step - loss: 0.0560 - accuracy: 0.9824\n",
            "Epoch 94/100\n",
            "469/469 [==============================] - 5s 10ms/step - loss: 0.0555 - accuracy: 0.9827\n",
            "Epoch 95/100\n",
            "469/469 [==============================] - 5s 11ms/step - loss: 0.0551 - accuracy: 0.9829\n",
            "Epoch 96/100\n",
            "469/469 [==============================] - 5s 10ms/step - loss: 0.0533 - accuracy: 0.9828\n",
            "Epoch 97/100\n",
            "469/469 [==============================] - 5s 10ms/step - loss: 0.0544 - accuracy: 0.9825\n",
            "Epoch 98/100\n",
            "469/469 [==============================] - 5s 10ms/step - loss: 0.0551 - accuracy: 0.9822\n",
            "Epoch 99/100\n",
            "469/469 [==============================] - 5s 10ms/step - loss: 0.0542 - accuracy: 0.9830\n",
            "Epoch 100/100\n",
            "469/469 [==============================] - 5s 11ms/step - loss: 0.0520 - accuracy: 0.9840\n"
          ]
        },
        {
          "output_type": "execute_result",
          "data": {
            "text/plain": [
              "<keras.callbacks.History at 0x7f8998f7d050>"
            ]
          },
          "metadata": {},
          "execution_count": 33
        }
      ],
      "source": [
        "Mod.compile(optimizer='rmsprop',loss='categorical_crossentropy',metrics='accuracy')\n",
        "Mod.fit(x_train,y_train,epochs=100,batch_size=128)"
      ]
    },
    {
      "cell_type": "code",
      "execution_count": null,
      "metadata": {
        "colab": {
          "base_uri": "https://localhost:8080/"
        },
        "id": "kmj5x6Q6Mqeb",
        "outputId": "c640e506-36d2-43cd-e328-c7318f733026"
      },
      "outputs": [
        {
          "output_type": "stream",
          "name": "stdout",
          "text": [
            "313/313 [==============================] - 1s 3ms/step - loss: 1.0631 - accuracy: 0.8869\n",
            "Test accuracy: 0.886900007724762\n"
          ]
        }
      ],
      "source": [
        "test_lost,test_acc=Mod.evaluate(x_test,y_test)\n",
        "print('Test accuracy:',test_acc)"
      ]
    },
    {
      "cell_type": "code",
      "execution_count": null,
      "metadata": {
        "colab": {
          "base_uri": "https://localhost:8080/",
          "height": 300
        },
        "id": "Nl00r_KrO1b8",
        "outputId": "f1ff1fa8-db73-4142-f0f8-d5443f2de673"
      },
      "outputs": [
        {
          "output_type": "stream",
          "name": "stdout",
          "text": [
            "1/1 [==============================] - 0s 24ms/step\n",
            "[[0. 0. 0. 0. 0. 0. 0. 0. 1. 0.]]\n"
          ]
        },
        {
          "output_type": "display_data",
          "data": {
            "text/plain": [
              "<Figure size 432x288 with 1 Axes>"
            ],
            "image/png": "[encoded data removed]"
          },
          "metadata": {
            "needs_background": "light"
          }
        }
      ],
      "source": [
        "from keras.utils import load_img\n",
        "from keras.utils import img_to_array,load_img\n",
        "import matplotlib.pyplot as plt\n",
        "import numpy as np\n",
        "class_name=['Tshirt','Trousers','Pullover','Dress','Coat','Sandal','Shirt','Sneaker','Bag','Ankle Boots']\n",
        "img = load_img('/content/2.jpg',target_size=(28,28))\n",
        "plt.imshow(img)\n",
        "img = img_to_array(img)\n",
        "img= img[:,:,0]\n",
        "img = img.astype('float32')\n",
        "img = img/255\n",
        "img= img.reshape(1,784)\n",
        "print(Mod.predict(img))"
      ]
    },
    {
      "cell_type": "code",
      "execution_count": null,
      "metadata": {
        "id": "mjpNPjQRP56s"
      },
      "outputs": [],
      "source": []
    }
  ],
  "metadata": {
    "colab": {
      "collapsed_sections": [],
      "provenance": [],
      "authorship_tag": "ABX9TyPaxUXH6x2nLCV+o8oTvAAF",
      "include_colab_link": true
    },
    "kernelspec": {
      "display_name": "Python 3",
      "name": "python3"
    },
    "language_info": {
      "name": "python"
    }
  },
  "nbformat": 4,
  "nbformat_minor": 0
}