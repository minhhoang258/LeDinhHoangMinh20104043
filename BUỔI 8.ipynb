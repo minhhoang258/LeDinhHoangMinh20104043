{
  "cells": [
    {
      "cell_type": "markdown",
      "metadata": {
        "id": "view-in-github",
        "colab_type": "text"
      },
      "source": [
        "<a href=\"https://colab.research.google.com/github/minhhoang258/LeDinhHoangMinh20104043/blob/main/BU%E1%BB%94I%208.ipynb\" target=\"_parent\"><img src=\"https://colab.research.google.com/assets/colab-badge.svg\" alt=\"Open In Colab\"/></a>"
      ]
    },
    {
      "cell_type": "code",
      "source": [
        "BUỔI 8"
      ],
      "metadata": {
        "id": "fXcLZmz_3JLZ"
      },
      "execution_count": null,
      "outputs": []
    },
    {
      "cell_type": "code",
      "source": [
        "from keras.datasets import mnist\n",
        "\n",
        "(x_train,y_train),(x_test,y_test)= mnist.load_data()"
      ],
      "metadata": {
        "id": "D4OWxDm_MrdG",
        "colab": {
          "base_uri": "https://localhost:8080/"
        },
        "outputId": "e5797dfd-e018-4345-bdde-8aa1e915ffeb"
      },
      "execution_count": null,
      "outputs": [
        {
          "output_type": "stream",
          "name": "stdout",
          "text": [
            "Downloading data from https://storage.googleapis.com/tensorflow/tf-keras-datasets/mnist.npz\n",
            "11490434/11490434 [==============================] - 1s 0us/step\n"
          ]
        }
      ]
    },
    {
      "cell_type": "code",
      "source": [
        "x_train.shape"
      ],
      "metadata": {
        "colab": {
          "base_uri": "https://localhost:8080/"
        },
        "id": "qsCTsm8vGItT",
        "outputId": "965e02a2-5be6-466d-ba71-68fdf347e99d"
      },
      "execution_count": null,
      "outputs": [
        {
          "output_type": "execute_result",
          "data": {
            "text/plain": [
              "(60000, 28, 28)"
            ]
          },
          "metadata": {},
          "execution_count": 88
        }
      ]
    },
    {
      "cell_type": "code",
      "source": [
        "y_train.shape"
      ],
      "metadata": {
        "colab": {
          "base_uri": "https://localhost:8080/"
        },
        "id": "c-TBmNHaGQI_",
        "outputId": "00eab368-cf7d-41c0-b462-cba8a26359dd"
      },
      "execution_count": null,
      "outputs": [
        {
          "output_type": "execute_result",
          "data": {
            "text/plain": [
              "(60000,)"
            ]
          },
          "metadata": {},
          "execution_count": 89
        }
      ]
    },
    {
      "cell_type": "code",
      "source": [
        "x_test.shape"
      ],
      "metadata": {
        "colab": {
          "base_uri": "https://localhost:8080/"
        },
        "id": "wdXmoqkOGRXt",
        "outputId": "96b4aed0-243f-46fb-b0a8-f56ee03bf3e6"
      },
      "execution_count": null,
      "outputs": [
        {
          "output_type": "execute_result",
          "data": {
            "text/plain": [
              "(10000, 28, 28)"
            ]
          },
          "metadata": {},
          "execution_count": 90
        }
      ]
    },
    {
      "cell_type": "code",
      "source": [
        "y_test.shape"
      ],
      "metadata": {
        "colab": {
          "base_uri": "https://localhost:8080/"
        },
        "id": "-1vJ0wksGT3x",
        "outputId": "c9668197-9e9d-482e-88c7-2a19dbb80089"
      },
      "execution_count": null,
      "outputs": [
        {
          "output_type": "execute_result",
          "data": {
            "text/plain": [
              "(10000,)"
            ]
          },
          "metadata": {},
          "execution_count": 91
        }
      ]
    },
    {
      "cell_type": "code",
      "source": [
        "from keras.utils import to_categorical\n",
        "from keras import models\n",
        "from keras.layers import Conv2D, MaxPool2D, Dense, Flatten, MaxPooling2D\n",
        "y_train = to_categorical(y_train)\n",
        "y_test = to_categorical(y_test)"
      ],
      "metadata": {
        "id": "iYve-I_rGWSl"
      },
      "execution_count": null,
      "outputs": []
    },
    {
      "cell_type": "code",
      "source": [
        "Mod = models.Sequential()\n",
        "Mod.add(Conv2D(32,kernel_size = (3,3),activation='relu',input_shape=(28,28,1),padding=\"same\"))\n",
        "Mod.add(MaxPooling2D((2,2),padding=\"same\"))\n",
        "Mod.add(Conv2D(64,kernel_size = (3,3), activation='relu',padding='same'))\n",
        "Mod.add(MaxPooling2D((2,2),padding='same'))\n",
        "Mod.add(Flatten())\n",
        "Mod.add(Dense(128,activation='relu'))\n",
        "Mod.add(Dense(10,activation='softmax'))\n",
        "Mod.compile(loss='categorical_crossentropy',metrics=['accuracy'],optimizer='adam')\n",
        "Dothi = Mod.fit(x_train,y_train,batch_size=128,epochs=50,verbose=2)\n"
      ],
      "metadata": {
        "colab": {
          "base_uri": "https://localhost:8080/"
        },
        "id": "Om_0bhxyHZ0w",
        "outputId": "234df7a9-01a4-4fb9-e5d2-be613c7e6b7b"
      },
      "execution_count": null,
      "outputs": [
        {
          "output_type": "stream",
          "name": "stdout",
          "text": [
            "Epoch 1/50\n",
            "469/469 - 10s - loss: 0.6904 - accuracy: 0.9297 - 10s/epoch - 21ms/step\n",
            "Epoch 2/50\n",
            "469/469 - 2s - loss: 0.0584 - accuracy: 0.9819 - 2s/epoch - 4ms/step\n",
            "Epoch 3/50\n",
            "469/469 - 2s - loss: 0.0374 - accuracy: 0.9880 - 2s/epoch - 4ms/step\n",
            "Epoch 4/50\n",
            "469/469 - 2s - loss: 0.0265 - accuracy: 0.9915 - 2s/epoch - 4ms/step\n",
            "Epoch 5/50\n",
            "469/469 - 2s - loss: 0.0223 - accuracy: 0.9925 - 2s/epoch - 4ms/step\n",
            "Epoch 6/50\n",
            "469/469 - 2s - loss: 0.0227 - accuracy: 0.9924 - 2s/epoch - 4ms/step\n",
            "Epoch 7/50\n",
            "469/469 - 2s - loss: 0.0169 - accuracy: 0.9944 - 2s/epoch - 4ms/step\n",
            "Epoch 8/50\n",
            "469/469 - 2s - loss: 0.0159 - accuracy: 0.9949 - 2s/epoch - 4ms/step\n",
            "Epoch 9/50\n",
            "469/469 - 2s - loss: 0.0184 - accuracy: 0.9940 - 2s/epoch - 4ms/step\n",
            "Epoch 10/50\n",
            "469/469 - 2s - loss: 0.0163 - accuracy: 0.9948 - 2s/epoch - 4ms/step\n",
            "Epoch 11/50\n",
            "469/469 - 2s - loss: 0.0166 - accuracy: 0.9946 - 2s/epoch - 4ms/step\n",
            "Epoch 12/50\n",
            "469/469 - 2s - loss: 0.0111 - accuracy: 0.9962 - 2s/epoch - 4ms/step\n",
            "Epoch 13/50\n",
            "469/469 - 2s - loss: 0.0117 - accuracy: 0.9964 - 2s/epoch - 4ms/step\n",
            "Epoch 14/50\n",
            "469/469 - 2s - loss: 0.0126 - accuracy: 0.9959 - 2s/epoch - 4ms/step\n",
            "Epoch 15/50\n",
            "469/469 - 2s - loss: 0.0133 - accuracy: 0.9959 - 2s/epoch - 4ms/step\n",
            "Epoch 16/50\n",
            "469/469 - 2s - loss: 0.0138 - accuracy: 0.9959 - 2s/epoch - 4ms/step\n",
            "Epoch 17/50\n",
            "469/469 - 2s - loss: 0.0083 - accuracy: 0.9974 - 2s/epoch - 4ms/step\n",
            "Epoch 18/50\n",
            "469/469 - 2s - loss: 0.0116 - accuracy: 0.9965 - 2s/epoch - 4ms/step\n",
            "Epoch 19/50\n",
            "469/469 - 2s - loss: 0.0105 - accuracy: 0.9970 - 2s/epoch - 4ms/step\n",
            "Epoch 20/50\n",
            "469/469 - 2s - loss: 0.0071 - accuracy: 0.9978 - 2s/epoch - 4ms/step\n",
            "Epoch 21/50\n",
            "469/469 - 2s - loss: 0.0062 - accuracy: 0.9980 - 2s/epoch - 4ms/step\n",
            "Epoch 22/50\n",
            "469/469 - 2s - loss: 0.0125 - accuracy: 0.9964 - 2s/epoch - 4ms/step\n",
            "Epoch 23/50\n",
            "469/469 - 2s - loss: 0.0083 - accuracy: 0.9973 - 2s/epoch - 4ms/step\n",
            "Epoch 24/50\n",
            "469/469 - 2s - loss: 0.0093 - accuracy: 0.9974 - 2s/epoch - 4ms/step\n",
            "Epoch 25/50\n",
            "469/469 - 2s - loss: 0.0072 - accuracy: 0.9977 - 2s/epoch - 4ms/step\n",
            "Epoch 26/50\n",
            "469/469 - 2s - loss: 0.0082 - accuracy: 0.9976 - 2s/epoch - 4ms/step\n",
            "Epoch 27/50\n",
            "469/469 - 2s - loss: 0.0079 - accuracy: 0.9977 - 2s/epoch - 4ms/step\n",
            "Epoch 28/50\n",
            "469/469 - 2s - loss: 0.0060 - accuracy: 0.9983 - 2s/epoch - 4ms/step\n",
            "Epoch 29/50\n",
            "469/469 - 2s - loss: 0.0053 - accuracy: 0.9985 - 2s/epoch - 4ms/step\n",
            "Epoch 30/50\n",
            "469/469 - 2s - loss: 0.0091 - accuracy: 0.9978 - 2s/epoch - 4ms/step\n",
            "Epoch 31/50\n",
            "469/469 - 2s - loss: 0.0073 - accuracy: 0.9979 - 2s/epoch - 4ms/step\n",
            "Epoch 32/50\n",
            "469/469 - 2s - loss: 0.0072 - accuracy: 0.9983 - 2s/epoch - 4ms/step\n",
            "Epoch 33/50\n",
            "469/469 - 2s - loss: 0.0060 - accuracy: 0.9983 - 2s/epoch - 4ms/step\n",
            "Epoch 34/50\n",
            "469/469 - 2s - loss: 0.0060 - accuracy: 0.9984 - 2s/epoch - 4ms/step\n",
            "Epoch 35/50\n",
            "469/469 - 2s - loss: 0.0095 - accuracy: 0.9977 - 2s/epoch - 4ms/step\n",
            "Epoch 36/50\n",
            "469/469 - 2s - loss: 0.0057 - accuracy: 0.9986 - 2s/epoch - 4ms/step\n",
            "Epoch 37/50\n",
            "469/469 - 2s - loss: 0.0069 - accuracy: 0.9982 - 2s/epoch - 4ms/step\n",
            "Epoch 38/50\n",
            "469/469 - 2s - loss: 0.0028 - accuracy: 0.9991 - 2s/epoch - 4ms/step\n",
            "Epoch 39/50\n",
            "469/469 - 2s - loss: 0.0112 - accuracy: 0.9976 - 2s/epoch - 4ms/step\n",
            "Epoch 40/50\n",
            "469/469 - 2s - loss: 0.0058 - accuracy: 0.9987 - 2s/epoch - 4ms/step\n",
            "Epoch 41/50\n",
            "469/469 - 2s - loss: 0.0054 - accuracy: 0.9987 - 2s/epoch - 4ms/step\n",
            "Epoch 42/50\n",
            "469/469 - 2s - loss: 0.0079 - accuracy: 0.9984 - 2s/epoch - 4ms/step\n",
            "Epoch 43/50\n",
            "469/469 - 2s - loss: 0.0066 - accuracy: 0.9986 - 2s/epoch - 4ms/step\n",
            "Epoch 44/50\n",
            "469/469 - 2s - loss: 0.0034 - accuracy: 0.9991 - 2s/epoch - 4ms/step\n",
            "Epoch 45/50\n",
            "469/469 - 2s - loss: 0.0036 - accuracy: 0.9991 - 2s/epoch - 4ms/step\n",
            "Epoch 46/50\n",
            "469/469 - 2s - loss: 0.0088 - accuracy: 0.9985 - 2s/epoch - 4ms/step\n",
            "Epoch 47/50\n",
            "469/469 - 2s - loss: 0.0075 - accuracy: 0.9984 - 2s/epoch - 4ms/step\n",
            "Epoch 48/50\n",
            "469/469 - 2s - loss: 0.0066 - accuracy: 0.9986 - 2s/epoch - 4ms/step\n",
            "Epoch 49/50\n",
            "469/469 - 2s - loss: 0.0077 - accuracy: 0.9984 - 2s/epoch - 4ms/step\n",
            "Epoch 50/50\n",
            "469/469 - 2s - loss: 0.0071 - accuracy: 0.9985 - 2s/epoch - 4ms/step\n"
          ]
        }
      ]
    },
    {
      "cell_type": "code",
      "source": [
        "Mod.save('dulieu2.h5')"
      ],
      "metadata": {
        "id": "BdB4GLJHJYWn"
      },
      "execution_count": null,
      "outputs": []
    },
    {
      "cell_type": "code",
      "source": [
        "from keras.utils import load_img\n",
        "from keras.utils import img_to_array,load_img\n",
        "import matplotlib.pyplot as plt\n",
        "import numpy as np\n",
        "from keras.models import load_model\n",
        "img = load_img('/content/hehe5.png',target_size=(28,28,1))\n",
        "plt.imshow(img)\n",
        "img = img_to_array(img)\n",
        "img = img[:,:,0]\n",
        "img= img.reshape(1,28,28,1)\n",
        "class_number=['0','1','2','3','4','5','6','7','8','9']\n",
        "a= int(np.argmax(Mod.predict(img),axis=1))\n",
        "print(\"Đây là số:\", class_number[a])"
      ],
      "metadata": {
        "colab": {
          "base_uri": "https://localhost:8080/",
          "height": 300
        },
        "id": "FL642nGYSE5e",
        "outputId": "b148c5d6-24f9-4462-dd92-13823d3538c0"
      },
      "execution_count": null,
      "outputs": [
        {
          "output_type": "stream",
          "name": "stdout",
          "text": [
            "1/1 [==============================] - 0s 29ms/step\n",
            "Đây là số: 2\n"
          ]
        },
        {
          "output_type": "display_data",
          "data": {
            "text/plain": [
              "<Figure size 432x288 with 1 Axes>"
            ],
            "image/png": "[encoded data removed]"
          },
          "metadata": {
            "needs_background": "light"
          }
        }
      ]
    },
    {
      "cell_type": "code",
      "source": [],
      "metadata": {
        "id": "SZKyJyxVYKuI"
      },
      "execution_count": null,
      "outputs": []
    }
  ],
  "metadata": {
    "colab": {
      "collapsed_sections": [],
      "provenance": [],
      "authorship_tag": "ABX9TyMB8yQOf98g8XDGsb7df7ic",
      "include_colab_link": true
    },
    "kernelspec": {
      "display_name": "Python 3",
      "name": "python3"
    },
    "language_info": {
      "name": "python"
    },
    "accelerator": "GPU",
    "gpuClass": "standard"
  },
  "nbformat": 4,
  "nbformat_minor": 0
}